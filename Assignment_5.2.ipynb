{
 "cells": [
  {
   "cell_type": "markdown",
   "metadata": {},
   "source": [
    "Implement a python program to generate all sentences where subject is in [\"Americans\",\"Indians\"] and verb is in [\"Play, \"watch] and the object is in [\"Baseball\", \"Cricket\"]. \n",
    "\n",
    "Example of output:\n",
    "Americans play Baseball"
   ]
  },
  {
   "cell_type": "code",
   "execution_count": null,
   "metadata": {},
   "outputs": [],
   "source": [
    "subjects=[\"Americans\", \"Indians\"]\n",
    "verbs=[\"play\",\"watch\"]\n",
    "sports=[\"Baseball\",\"Cricket\"]"
   ]
  },
  {
   "cell_type": "code",
   "execution_count": null,
   "metadata": {},
   "outputs": [],
   "source": [
    "if __name__ == \"__main__\":\n",
    "    for subject in subjects:\n",
    "        for verb in verbs:\n",
    "            for sport in sports:\n",
    "                print(subject + \" \" + verb + \" \" + sport)\n",
    "    "
   ]
  }
 ],
 "metadata": {
  "kernelspec": {
   "display_name": "Python 3",
   "language": "python",
   "name": "python3"
  },
  "language_info": {
   "codemirror_mode": {
    "name": "ipython",
    "version": 3
   },
   "file_extension": ".py",
   "mimetype": "text/x-python",
   "name": "python",
   "nbconvert_exporter": "python",
   "pygments_lexer": "ipython3",
   "version": "3.6.4"
  }
 },
 "nbformat": 4,
 "nbformat_minor": 2
}
